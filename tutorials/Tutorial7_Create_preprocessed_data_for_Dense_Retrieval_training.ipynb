{
 "cells": [
  {
   "cell_type": "code",
   "execution_count": null,
   "metadata": {
    "collapsed": true
   },
   "outputs": [],
   "source": [
    "## Better retrieval via \"Dense Passage Retrieval\"\n",
    "\n",
    "\n",
    "### Importance of Retrievers\n",
    "\n",
    "The Retriever has a huge impact on the performance of our overall search pipeline.\n",
    "\n",
    "\n",
    "### Different types of Retrievers\n",
    "#### Sparse\n",
    "Family of algorithms based on counting the occurences of words (bag-of-words) resulting in very sparse vectors with length = vocab size.\n",
    "\n",
    "Examples: BM25, TF-IDF\n",
    "Pros: Simple, fast, well explainable\n",
    "Cons: Relies on exact keyword matches between query and text\n",
    "\n",
    "\n",
    "#### Dense\n",
    "These retrievers use neural network models to create \"dense\" embedding vectors. Within this family there are two different approaches:\n",
    "\n",
    "a) Single encoder: Use a **single model** to embed both query and passage.\n",
    "b) Dual-encoder: Use **two models**, one to embed the query and one to embed the passage\n",
    "\n",
    "Recent work suggests that dual encoders work better, likely because they can deal better with the different nature of query and passage (length, style, syntax ...).\n",
    "\n",
    "Examples: REALM, DPR, Sentence-Transformers ...\n",
    "Pros: Captures semantinc similarity instead of \"word matches\" (e.g. synonyms, related topics ...)\n",
    "Cons: Computationally more heavy, initial training of model\n",
    "\n",
    "\n",
    "### \"Dense Passage Retrieval\"\n",
    "\n",
    "In this Tutorial, we want to highlight one \"Dense Dual-Encoder\" called Dense Passage Retriever.\n",
    "It was introdoced by Karpukhin et al. (2020, https://arxiv.org/abs/2004.04906.\n",
    "\n",
    "Original Abstract:\n",
    "\n",
    "_\"Open-domain question answering relies on efficient passage retrieval to select candidate contexts, where traditional sparse vector space models, such as TF-IDF or BM25, are the de facto method. In this work, we show that retrieval can be practically implemented using dense representations alone, where embeddings are learned from a small number of questions and passages by a simple dual-encoder framework. When evaluated on a wide range of open-domain QA datasets, our dense retriever outperforms a strong Lucene-BM25 system largely by 9%-19% absolute in terms of top-20 passage retrieval accuracy, and helps our end-to-end QA system establish new state-of-the-art on multiple open-domain QA benchmarks.\"_\n",
    "\n",
    "Paper: https://arxiv.org/abs/2004.04906\n",
    "Original Code: https://fburl.com/qa-dpr\n",
    "\n",
    "\n",
    "*Use this [link](https://colab.research.google.com/github/deepset-ai/haystack/blob/master/tutorials/Tutorial6_Better_Retrieval_via_DPR.ipynb) to open the notebook in Google Colab.*\n",
    "\n",
    "\n",
    "\n"
   ]
  }
 ],
 "metadata": {
  "kernelspec": {
   "display_name": "Python 3",
   "language": "python",
   "name": "python3"
  },
  "language_info": {
   "codemirror_mode": {
    "name": "ipython",
    "version": 2
   },
   "file_extension": ".py",
   "mimetype": "text/x-python",
   "name": "python",
   "nbconvert_exporter": "python",
   "pygments_lexer": "ipython2",
   "version": "2.7.6"
  }
 },
 "nbformat": 4,
 "nbformat_minor": 0
}